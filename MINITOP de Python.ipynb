{
 "cells": [
  {
   "cell_type": "markdown",
   "metadata": {},
   "source": [
    "## Olá, glr. Nós somos Ícaro e Sandoval e estaremos hoje ministrando o maravilhoso...\n",
    "\n",
    "<h1 style=\"text-align: center;\">PYTHON - Primeiros Passos</h1>\n",
    "\n",
    "Para isso precisamos que todos conheçam OS PRIMEIROS PASSOS (NÃO DO PYTHON EM SI, mas) do **JUPYTER NOTEBOOKS** além de conceitos básicos sobre o **GITHUB + MyBinder** .\n",
    "\n",
    "### Jupyter\n",
    "Jupyter Notebooks é uma aplicação web que pode ajudar a entender e visualizar dados e resultados de análises, juntamente com o código! Facilita a experimentação, colaboração e publicação online. \n",
    "\n",
    "<h1 style=\"text-align: center;\">Porém para nosso minicurso</h1>\n",
    "<h3 style=\"text-align: center;\">NO RELY ON \"INFRA\" - MyBinder RULES</h3> "
   ]
  },
  {
   "cell_type": "markdown",
   "metadata": {},
   "source": [
    "#### 1º PASSO - Abra o GITHUB https://github.com/IcaroTARique\n",
    "\n",
    "Para o teste do MyBinder e para entendermos como ele funciona vamos usar um Notebook criado na tutoria de Cálculo Numérico.\n",
    "\n",
    "#### 2º PASSO - Abra o repositório de nome <span style=\"color:blue\">NumericPython</span>\n",
    "\n",
    "Dentro do repositório, copie a URL disponível no botão <span style=\"color:green\">Clone or Download</span>\n",
    "\n",
    "#### 3º PASSO - Abra o MYBINDER https://mybinder.org/\n",
    "\n",
    "![title](imagens/binder.png)\n",
    "\n",
    "### TEMOS QUE ENTENDER ...\n",
    "- Como preenchemos o campo **\"GitHub repository name or URL\"**?\n",
    "- Como preenchemos o campo **\"Git branch, tag, or commit\"**?\n",
    "- LISTA DE DEPENDENCIAS\n",
    "Para que as bibliotecas sejam importadas para o código E FUNCIONEM, temos que escrever em um arquivo de texto chamado \"requirements.txt\" onde, neste caso, temos a lista de dependencias do nosso código:\n",
    "\n",
    "    - pandas\n",
    "\n",
    "    - sympy\n",
    "   \n",
    "    - numpy\n",
    "\n",
    "    - matplotlib\n",
    "\n",
    "    - future\n",
    "\n",
    "    - python-csv\n",
    "\n",
    "\n",
    "arquivo: \"requirements.txt\" \n",
    "\n",
    "<p style=\"color:red\">OBS:. Toda essa lista é feita do nome dos pacotes a serem instalados quando a infraestrutura do MyBinder é preparada</p>\n",
    "\n",
    "OK... após esse teste, temos que RODAR NOSSO MINICURSO DE PYTHON\n",
    "\n",
    "<img src=\"imagens/doit.jpg\" alt=\"doit\" width=\"500\"/>\n"
   ]
  },
  {
   "cell_type": "markdown",
   "metadata": {},
   "source": [
    "# MINITOP PYTHON primeiros passos (INICIO OFICIAL)\n",
    "\n",
    "Vamos para os primeiros passos...\n",
    "\n",
    "\n",
    "## 1 - Instruções de atribuição\n",
    "cria uma nova variável e dá um valor a ela:"
   ]
  },
  {
   "cell_type": "code",
   "execution_count": 5,
   "metadata": {},
   "outputs": [],
   "source": [
    "numero = 20\n",
    "e = 2.718281828459\n",
    "pi = 3.141592\n",
    "g = 5e14\n",
    "nome = \"Zico\""
   ]
  },
  {
   "cell_type": "markdown",
   "metadata": {},
   "source": [
    "O comando **print** em python funciona da seguinte maneira: "
   ]
  },
  {
   "cell_type": "code",
   "execution_count": 7,
   "metadata": {},
   "outputs": [
    {
     "name": "stdout",
     "output_type": "stream",
     "text": [
      "20   2.718281828459   3.141592   500000000000000.0   Zico\n"
     ]
    }
   ],
   "source": [
    "print(numero,\" \",e,\" \",pi,\" \",g,\" \",nome)"
   ]
  },
  {
   "cell_type": "markdown",
   "metadata": {},
   "source": [
    "Se você der um nome ilegal a uma variável receberá um erro de sintaxe:"
   ]
  },
  {
   "cell_type": "code",
   "execution_count": 12,
   "metadata": {},
   "outputs": [
    {
     "ename": "SyntaxError",
     "evalue": "invalid syntax (<ipython-input-12-965a2a7080dc>, line 1)",
     "output_type": "error",
     "traceback": [
      "\u001b[0;36m  File \u001b[0;32m\"<ipython-input-12-965a2a7080dc>\"\u001b[0;36m, line \u001b[0;32m1\u001b[0m\n\u001b[0;31m    190numero = \"190\"\u001b[0m\n\u001b[0m            ^\u001b[0m\n\u001b[0;31mSyntaxError\u001b[0m\u001b[0;31m:\u001b[0m invalid syntax\n"
     ]
    }
   ],
   "source": [
    "190numero = \"190\"\n"
   ]
  },
  {
   "cell_type": "code",
   "execution_count": 19,
   "metadata": {},
   "outputs": [],
   "source": [
    "numero190 = \"190\""
   ]
  },
  {
   "cell_type": "code",
   "execution_count": 20,
   "metadata": {},
   "outputs": [
    {
     "data": {
      "text/plain": [
       "'190'"
      ]
     },
     "execution_count": 20,
     "metadata": {},
     "output_type": "execute_result"
    }
   ],
   "source": [
    "numero190"
   ]
  },
  {
   "cell_type": "markdown",
   "metadata": {},
   "source": [
    "Quando a variável recebe um nome que é uma palavra reservada"
   ]
  },
  {
   "cell_type": "code",
   "execution_count": 22,
   "metadata": {},
   "outputs": [
    {
     "ename": "SyntaxError",
     "evalue": "invalid syntax (<ipython-input-22-8f5dc4d25bee>, line 1)",
     "output_type": "error",
     "traceback": [
      "\u001b[0;36m  File \u001b[0;32m\"<ipython-input-22-8f5dc4d25bee>\"\u001b[0;36m, line \u001b[0;32m1\u001b[0m\n\u001b[0;31m    try = \"tente outra vez, brasileiro\"\u001b[0m\n\u001b[0m        ^\u001b[0m\n\u001b[0;31mSyntaxError\u001b[0m\u001b[0;31m:\u001b[0m invalid syntax\n"
     ]
    }
   ],
   "source": [
    "try = \"tente outra vez, brasileiro\""
   ]
  },
  {
   "cell_type": "code",
   "execution_count": 17,
   "metadata": {},
   "outputs": [],
   "source": [
    "_try = \"aí ta certo\""
   ]
  },
  {
   "cell_type": "code",
   "execution_count": 18,
   "metadata": {},
   "outputs": [
    {
     "data": {
      "text/plain": [
       "'aí ta certo'"
      ]
     },
     "execution_count": 18,
     "metadata": {},
     "output_type": "execute_result"
    }
   ],
   "source": [
    "_try"
   ]
  },
  {
   "cell_type": "markdown",
   "metadata": {},
   "source": [
    "## 2 - Expressões e instruções\n",
    "\n"
   ]
  },
  {
   "cell_type": "code",
   "execution_count": 31,
   "metadata": {},
   "outputs": [
    {
     "name": "stdout",
     "output_type": "stream",
     "text": [
      "20.859873828459\n"
     ]
    }
   ],
   "source": [
    "print(e + pi + 15)"
   ]
  },
  {
   "cell_type": "code",
   "execution_count": 30,
   "metadata": {},
   "outputs": [
    {
     "name": "stdout",
     "output_type": "stream",
     "text": [
      "190 , aí ta certo\n"
     ]
    }
   ],
   "source": [
    "print(numero190 +\" , \"+ _try)"
   ]
  },
  {
   "cell_type": "code",
   "execution_count": 64,
   "metadata": {},
   "outputs": [
    {
     "data": {
      "text/plain": [
       "'190190190190190190190190190190'"
      ]
     },
     "execution_count": 64,
     "metadata": {},
     "output_type": "execute_result"
    }
   ],
   "source": [
    "numero190 * 10"
   ]
  },
  {
   "cell_type": "code",
   "execution_count": 49,
   "metadata": {},
   "outputs": [
    {
     "name": "stdout",
     "output_type": "stream",
     "text": [
      "<class 'str'> <class 'str'>\n"
     ]
    }
   ],
   "source": [
    "print(type(numero190),  type(_try))"
   ]
  },
  {
   "cell_type": "code",
   "execution_count": 39,
   "metadata": {},
   "outputs": [
    {
     "name": "stdout",
     "output_type": "stream",
     "text": [
      "A circunferência é 12.566368\n"
     ]
    }
   ],
   "source": [
    "raio = 2\n",
    "Circunferencia = 2*pi*raio\n",
    "print(\"A circunferência é\", Circunferencia)"
   ]
  },
  {
   "cell_type": "code",
   "execution_count": 40,
   "metadata": {},
   "outputs": [
    {
     "ename": "TypeError",
     "evalue": "can only concatenate str (not \"float\") to str",
     "output_type": "error",
     "traceback": [
      "\u001b[0;31m-------------------------------------------------------------------------\u001b[0m",
      "\u001b[0;31mTypeError\u001b[0m                               Traceback (most recent call last)",
      "\u001b[0;32m<ipython-input-40-71c699007b08>\u001b[0m in \u001b[0;36m<module>\u001b[0;34m()\u001b[0m\n\u001b[1;32m      1\u001b[0m \u001b[0mraio\u001b[0m \u001b[0;34m=\u001b[0m \u001b[0;36m2\u001b[0m\u001b[0;34m\u001b[0m\u001b[0m\n\u001b[1;32m      2\u001b[0m \u001b[0mCircunferencia\u001b[0m \u001b[0;34m=\u001b[0m \u001b[0;36m2\u001b[0m\u001b[0;34m*\u001b[0m\u001b[0mpi\u001b[0m\u001b[0;34m*\u001b[0m\u001b[0mraio\u001b[0m\u001b[0;34m\u001b[0m\u001b[0m\n\u001b[0;32m----> 3\u001b[0;31m \u001b[0mprint\u001b[0m\u001b[0;34m(\u001b[0m\u001b[0;34m\"A circunferência é\"\u001b[0m \u001b[0;34m+\u001b[0m \u001b[0mCircunferencia\u001b[0m\u001b[0;34m)\u001b[0m\u001b[0;34m\u001b[0m\u001b[0m\n\u001b[0m",
      "\u001b[0;31mTypeError\u001b[0m: can only concatenate str (not \"float\") to str"
     ]
    }
   ],
   "source": [
    "raio = 2\n",
    "Circunferencia = 2*pi*raio\n",
    "print(\"A circunferência é\" + Circunferencia)"
   ]
  },
  {
   "cell_type": "markdown",
   "metadata": {},
   "source": [
    "**Por que não funcionooooou?**\n",
    "\n",
    "Basicamente está descrito na mensagem de erro... não há a possibilidade de concatenar dois tipos diferentes diferentes de dados, ou seja... concatenar é apenas para o tipo STRING + STRING, como vimos em uma das células anteriores\n",
    "\n",
    "FAREMOS O TESTE DE TIPOS APENAS PARA DEMONSTRAR: "
   ]
  },
  {
   "cell_type": "code",
   "execution_count": 41,
   "metadata": {},
   "outputs": [
    {
     "data": {
      "text/plain": [
       "int"
      ]
     },
     "execution_count": 41,
     "metadata": {},
     "output_type": "execute_result"
    }
   ],
   "source": [
    "type(raio)"
   ]
  },
  {
   "cell_type": "code",
   "execution_count": 42,
   "metadata": {},
   "outputs": [
    {
     "data": {
      "text/plain": [
       "float"
      ]
     },
     "execution_count": 42,
     "metadata": {},
     "output_type": "execute_result"
    }
   ],
   "source": [
    "type(pi)"
   ]
  },
  {
   "cell_type": "code",
   "execution_count": 43,
   "metadata": {},
   "outputs": [
    {
     "data": {
      "text/plain": [
       "str"
      ]
     },
     "execution_count": 43,
     "metadata": {},
     "output_type": "execute_result"
    }
   ],
   "source": [
    "type(\"A circunferência é\")"
   ]
  },
  {
   "cell_type": "markdown",
   "metadata": {},
   "source": [
    "## 3 - Ordem das operações (Precedência)\n",
    "\n",
    "|                   Operadores                  \t|                     Significado                     \t|\n",
    "|:---------------------------------------------:\t|:---------------------------------------------------:\t|\n",
    "|                       ()                      \t|                      Parentesis                     \t|\n",
    "|                       **                      \t|                       Expoente                      \t|\n",
    "|                   +x, -x, ~x                  \t|       Mais unário, menos unário e bitwise NOT       \t|\n",
    "|                      +, -                     \t|                  Adição e Subtração                 \t|\n",
    "|                     <<, >>                    \t|             Operadores de shift Bitwise             \t|\n",
    "|                       &                       \t|                     Bitwise AND                     \t|\n",
    "|                       ^                       \t|                     Bitwise XOR                     \t|\n",
    "|                       |                       \t|                      Bitwise OR                     \t|\n",
    "| ==, !=, >, >=, <, <=, is,  is not, in, not in \t| Comparações Identidades, e  operadores de Membresia \t|\n",
    "|                      not                      \t|                    Negação lógica                   \t|\n",
    "|                      and                      \t|                     Logical AND                     \t|\n",
    "|                       or                      \t|                      Logical OR                     \t|\n"
   ]
  },
  {
   "cell_type": "code",
   "execution_count": 51,
   "metadata": {},
   "outputs": [
    {
     "data": {
      "text/plain": [
       "308915776"
      ]
     },
     "execution_count": 51,
     "metadata": {},
     "output_type": "execute_result"
    }
   ],
   "source": [
    "(36 - 10)**(12-6)"
   ]
  },
  {
   "cell_type": "code",
   "execution_count": 63,
   "metadata": {},
   "outputs": [
    {
     "name": "stdout",
     "output_type": "stream",
     "text": [
      "35.55555555555556\n"
     ]
    }
   ],
   "source": [
    "fahrenheit = 96\n",
    "\n",
    "celcius = ((fahrenheit - 32)/(212-32))*100\n",
    "print(celcius)"
   ]
  },
  {
   "cell_type": "markdown",
   "metadata": {},
   "source": [
    "# PAUSA - FAÇA ALGUNS TESTES\n",
    "### Temos aqui alguns exercícios para prática\n",
    "\n",
    "1 - O volume de uma esfera com raio r é Fórmula – Volume de uma esfera.. Qual é o volume de uma esfera com raio 5?\n",
    "\n",
    "2 - Suponha que o preço de capa de um livro seja R\\\\$ 24,95, mas as livrarias recebem um desconto de 40\\%. O transporte custa R\\\\$ 3,00 para o primeiro exemplar e 75 centavos para cada exemplar adicional. Qual é o custo total de atacado para 60 cópias?\n",
    "\n",
    "3 - Se eu sair da minha casa às 6:52 e correr 1 quilômetro a um certo passo (8min15s por quilômetro), então 3 quilômetros a um passo mais rápido (7min12s por quilômetro) e 1 quilômetro no mesmo passo usado em primeiro lugar, que horas chego em casa para o café da manhã?\n",
    "\n",
    "## 10 min AAAAAAAND COUNTING"
   ]
  },
  {
   "cell_type": "code",
   "execution_count": 4,
   "metadata": {},
   "outputs": [],
   "source": [
    "import time\n",
    "import os\n",
    "from IPython.display import clear_output\n",
    "\n",
    "s = 5*60\n",
    "for i in range(s):\n",
    "    print(str(int((s-i)//60))+\":\"+str((s-i)%60) + \" segundos para retornar\")\n",
    "    time.sleep(1)\n",
    "    clear_output()\n",
    "\n",
    "for j in range(3):\n",
    "    os.system('spd-say \"time out\"')\n",
    "    time.sleep(1)\n"
   ]
  },
  {
   "cell_type": "markdown",
   "metadata": {},
   "source": [
    "## 4 - Boleanos , comparadores e operadores lógicos\n",
    "#### Boleanos\n",
    "Uma expressão boleana pode ser entendida se for explicada como uma comparação, ou seja, ela como o resultado de uma comparação de um determinado termo com outro termo, porém, não tem apenas essa abordagem podendo também expressar um  estado. As expressões boleanas tem dois tipos de resultados, true e false."
   ]
  },
  {
   "cell_type": "code",
   "execution_count": 5,
   "metadata": {},
   "outputs": [
    {
     "data": {
      "text/plain": [
       "True"
      ]
     },
     "execution_count": 5,
     "metadata": {},
     "output_type": "execute_result"
    }
   ],
   "source": [
    "130 == 130 "
   ]
  },
  {
   "cell_type": "code",
   "execution_count": 6,
   "metadata": {},
   "outputs": [
    {
     "data": {
      "text/plain": [
       "True"
      ]
     },
     "execution_count": 6,
     "metadata": {},
     "output_type": "execute_result"
    }
   ],
   "source": [
    "\"Coração\" == \"Coração\""
   ]
  },
  {
   "cell_type": "code",
   "execution_count": 9,
   "metadata": {},
   "outputs": [
    {
     "data": {
      "text/plain": [
       "False"
      ]
     },
     "execution_count": 9,
     "metadata": {},
     "output_type": "execute_result"
    }
   ],
   "source": [
    "1 == 0"
   ]
  },
  {
   "cell_type": "markdown",
   "metadata": {},
   "source": [
    "#### Podemos então apresentar os Comparadores\n",
    "\n",
    "Operadores comparadores simples são os seguintes:\n",
    "\n",
    "|Operador  \t|   Descrição  \t|\n",
    "|:---------:|:-------------:|\n",
    "|  <  \t    |  Maior que  \t|\n",
    "| <=  \t    | Maior Igual \t|\n",
    "|  >  \t    |  Menor que  \t|\n",
    "|  >= \t    |  Menor que  \t|\n",
    "|  == \t    |    Igual    \t|\n",
    "|  != \t    |  Diferente  \t|"
   ]
  },
  {
   "cell_type": "code",
   "execution_count": 13,
   "metadata": {},
   "outputs": [
    {
     "data": {
      "text/plain": [
       "True"
      ]
     },
     "execution_count": 13,
     "metadata": {},
     "output_type": "execute_result"
    }
   ],
   "source": [
    "3 > 2"
   ]
  },
  {
   "cell_type": "code",
   "execution_count": 14,
   "metadata": {},
   "outputs": [
    {
     "data": {
      "text/plain": [
       "False"
      ]
     },
     "execution_count": 14,
     "metadata": {},
     "output_type": "execute_result"
    }
   ],
   "source": [
    "4 >= 6"
   ]
  },
  {
   "cell_type": "code",
   "execution_count": 15,
   "metadata": {},
   "outputs": [
    {
     "data": {
      "text/plain": [
       "False"
      ]
     },
     "execution_count": 15,
     "metadata": {},
     "output_type": "execute_result"
    }
   ],
   "source": [
    "\"Dragão\" != \"Dragão\""
   ]
  },
  {
   "cell_type": "code",
   "execution_count": 16,
   "metadata": {},
   "outputs": [
    {
     "data": {
      "text/plain": [
       "True"
      ]
     },
     "execution_count": 16,
     "metadata": {},
     "output_type": "execute_result"
    }
   ],
   "source": [
    "type(\"holly\") == type(\"3452347\")"
   ]
  },
  {
   "cell_type": "markdown",
   "metadata": {},
   "source": [
    "### Operadores lógicos\n",
    "\n",
    "Operações Lógicas são ensinadas de diferentes formas, por exemplo, em cursos de eletrônica é ensinado portas lógicas, já em programação aprendemos os operadores lógicos, mas no fundo é a mesma coisa e se você entender a ideia das operações lógicas você pode usar esse conhecimento em qualquer área da tecnologia.\n",
    "\n",
    "| Operação \t| Significado \t|\n",
    "|:--------:\t|:-----------:\t|\n",
    "|    and   \t|      e      \t|\n",
    "|    or    \t|      ou     \t|\n",
    "|    not   \t|     não     \t|"
   ]
  },
  {
   "cell_type": "code",
   "execution_count": 26,
   "metadata": {},
   "outputs": [
    {
     "name": "stdout",
     "output_type": "stream",
     "text": [
      "Tabela verdade AND\n",
      " X | Y | S\n",
      "-----------\n",
      " 0 | 0 | 0\n",
      " 0 | 1 | 0\n",
      " 1 | 0 | 0\n",
      " 1 | 1 | 1\n"
     ]
    }
   ],
   "source": [
    "print(\"Tabela verdade AND\")\n",
    "print( \" X | Y | S\", )\n",
    "print(\"-----------\")\n",
    "print( \" 0 | 0 |\", 0 and 0)\n",
    "print( \" 0 | 1 |\", 0 and 1)\n",
    "print( \" 1 | 0 |\", 1 and 0)\n",
    "print( \" 1 | 1 |\", 1 and 1)"
   ]
  },
  {
   "cell_type": "code",
   "execution_count": 28,
   "metadata": {},
   "outputs": [
    {
     "name": "stdout",
     "output_type": "stream",
     "text": [
      "Tabela verdade OR\n",
      " X | Y | S\n",
      "-----------\n",
      " 0 | 0 | 0\n",
      " 0 | 1 | 1\n",
      " 1 | 0 | 1\n",
      " 1 | 1 | 1\n"
     ]
    }
   ],
   "source": [
    "print(\"Tabela verdade OR\")\n",
    "print( \" X | Y | S\", )\n",
    "print(\"-----------\")\n",
    "print( \" 0 | 0 |\", 0 or 0)\n",
    "print( \" 0 | 1 |\", 0 or 1)\n",
    "print( \" 1 | 0 |\", 1 or 0)\n",
    "print( \" 1 | 1 |\", 1 or 1)"
   ]
  },
  {
   "cell_type": "code",
   "execution_count": 36,
   "metadata": {},
   "outputs": [
    {
     "name": "stdout",
     "output_type": "stream",
     "text": [
      " ~X | S \n",
      "---------\n",
      " 0  | True\n",
      " 1  | False\n"
     ]
    }
   ],
   "source": [
    "print( \" ~X | S \")\n",
    "print(\"---------\")\n",
    "print( \" 0  |\", not 0)\n",
    "print( \" 1  |\", not 1)\n"
   ]
  },
  {
   "cell_type": "markdown",
   "metadata": {},
   "source": [
    "## 5 - Execução condicional\n",
    "\n",
    "Execuções Condicionais são parâmetros que definem SE trechos de códigos serão efetuados dadas alguamas restrições que são passadas ao código"
   ]
  },
  {
   "cell_type": "code",
   "execution_count": 37,
   "metadata": {},
   "outputs": [
    {
     "name": "stdout",
     "output_type": "stream",
     "text": [
      "Todo mundo feliz - have a chocolat\n"
     ]
    }
   ],
   "source": [
    "minicurso = 10\n",
    "show = 10\n",
    "if (minicurso == show):\n",
    "    print( \"Todo mundo feliz - have a chocolat\")\n",
    "else: \n",
    "    print(\" Tu nem é gente!!!\")"
   ]
  },
  {
   "cell_type": "code",
   "execution_count": 47,
   "metadata": {},
   "outputs": [
    {
     "name": "stdout",
     "output_type": "stream",
     "text": [
      " EOQ? \n",
      " EOQ dnv? \n"
     ]
    }
   ],
   "source": [
    "minicurso = 7\n",
    "show = 10\n",
    "if not minicurso >= show: \n",
    "    print( \" EOQ? \")\n",
    "    \n",
    "if minicurso < show: \n",
    "    print( \" EOQ dnv? \")"
   ]
  },
  {
   "cell_type": "code",
   "execution_count": null,
   "metadata": {},
   "outputs": [],
   "source": []
  }
 ],
 "metadata": {
  "kernelspec": {
   "display_name": "Python 3",
   "language": "python",
   "name": "python3"
  },
  "language_info": {
   "codemirror_mode": {
    "name": "ipython",
    "version": 3
   },
   "file_extension": ".py",
   "mimetype": "text/x-python",
   "name": "python",
   "nbconvert_exporter": "python",
   "pygments_lexer": "ipython3",
   "version": "3.7.0"
  }
 },
 "nbformat": 4,
 "nbformat_minor": 2
}
