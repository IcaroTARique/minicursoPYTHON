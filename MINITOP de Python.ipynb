{
 "cells": [
  {
   "cell_type": "markdown",
   "metadata": {},
   "source": [
    "## Olá, glr. Nós somos Ícaro e Sandoval e estaremos hoje ministrando o maravilhoso...\n",
    "\n",
    "<h1 style=\"text-align: center;\">PYTHON - Primeiros Passos</h1>\n",
    "\n",
    "Para isso precisamos que todos conheçam OS PRIMEIROS PASSOS (NÃO DO PYTHON EM SI, mas) do **JUPYTER NOTEBOOKS** além de conceitos básicos sobre o **GITHUB + MyBinder** .\n",
    "\n",
    "### Jupyter\n",
    "Jupyter Notebooks é uma aplicação web que pode ajudar a entender e visualizar dados e resultados de análises, juntamente com o código! Facilita a experimentação, colaboração e publicação online. \n",
    "\n",
    "<h1 style=\"text-align: center;\">Porém para nosso minicurso</h1>\n",
    "<h3 style=\"text-align: center;\">NO RELY ON \"INFRA\" - MyBinder RULES</h3> "
   ]
  },
  {
   "cell_type": "markdown",
   "metadata": {},
   "source": [
    "#### 1º PASSO - Abra o GITHUB https://github.com/IcaroTARique\n",
    "\n",
    "Para o teste do MyBinder e para entendermos como ele funciona vamos usar um Notebook criado na tutoria de Cálculo Numérico.\n",
    "\n",
    "#### 2º PASSO - Abra o repositório de nome <span style=\"color:blue\">NumericPython</span>\n",
    "\n",
    "Dentro do repositório, copie a URL disponível no botão <span style=\"color:green\">Clone or Download</span>\n",
    "\n",
    "#### 3º PASSO - Abra o MYBINDER https://mybinder.org/\n",
    "\n",
    "![title](imagens/binder.png)\n",
    "\n",
    "### TEMOS QUE ENTENDER ...\n",
    "- Como preenchemos o campo **\"GitHub repository name or URL\"**?\n",
    "- Como preenchemos o campo **\"Git branch, tag, or commit\"**?\n",
    "- LISTA DE DEPENDENCIAS\n",
    "Para que as bibliotecas sejam importadas para o código E FUNCIONEM, temos que escrever em um arquivo de texto chamado \"requirements.txt\" onde, neste caso, temos a lista de dependencias do nosso código:\n",
    "\n",
    "    - pandas\n",
    "\n",
    "    - sympy\n",
    "   \n",
    "    - numpy\n",
    "\n",
    "    - matplotlib\n",
    "\n",
    "    - future\n",
    "\n",
    "    - python-csv\n",
    "\n",
    "\n",
    "arquivo: \"requirements.txt\" \n",
    "\n",
    "<p style=\"color:red\">OBS:. Toda essa lista é feita do nome dos pacotes a serem instalados quando a infraestrutura do MyBinder é preparada</p>\n",
    "\n",
    "OK... após esse teste, temos que RODAR NOSSO MINICURSO DE PYTHON\n",
    "\n",
    "<img src=\"imagens/doit.jpg\" alt=\"doit\" width=\"500\"/>\n"
   ]
  },
  {
   "cell_type": "markdown",
   "metadata": {},
   "source": [
    "# MINITOP PYTHON primeiros passos (INICIO OFICIAL)\n",
    "\n",
    "Vamos para os primeiros passos...\n",
    "\n",
    "\n",
    "## 1 - Instruções de atribuição\n",
    "cria uma nova variável e dá um valor a ela:"
   ]
  },
  {
   "cell_type": "code",
   "execution_count": 5,
   "metadata": {},
   "outputs": [],
   "source": [
    "numero = 20\n",
    "e = 2.718281828459\n",
    "pi = 3.141592\n",
    "g = 5e14\n",
    "nome = \"Zico\""
   ]
  },
  {
   "cell_type": "markdown",
   "metadata": {},
   "source": [
    "O comando **print** em python funciona da seguinte maneira: "
   ]
  },
  {
   "cell_type": "code",
   "execution_count": 7,
   "metadata": {},
   "outputs": [
    {
     "name": "stdout",
     "output_type": "stream",
     "text": [
      "20   2.718281828459   3.141592   500000000000000.0   Zico\n"
     ]
    }
   ],
   "source": [
    "print(numero,\" \",e,\" \",pi,\" \",g,\" \",nome)"
   ]
  },
  {
   "cell_type": "markdown",
   "metadata": {},
   "source": [
    "Se você der um nome ilegal a uma variável receberá um erro de sintaxe:"
   ]
  },
  {
   "cell_type": "code",
   "execution_count": 12,
   "metadata": {},
   "outputs": [
    {
     "ename": "SyntaxError",
     "evalue": "invalid syntax (<ipython-input-12-965a2a7080dc>, line 1)",
     "output_type": "error",
     "traceback": [
      "\u001b[0;36m  File \u001b[0;32m\"<ipython-input-12-965a2a7080dc>\"\u001b[0;36m, line \u001b[0;32m1\u001b[0m\n\u001b[0;31m    190numero = \"190\"\u001b[0m\n\u001b[0m            ^\u001b[0m\n\u001b[0;31mSyntaxError\u001b[0m\u001b[0;31m:\u001b[0m invalid syntax\n"
     ]
    }
   ],
   "source": [
    "190numero = \"190\"\n"
   ]
  },
  {
   "cell_type": "code",
   "execution_count": 19,
   "metadata": {},
   "outputs": [],
   "source": [
    "numero190 = \"190\""
   ]
  },
  {
   "cell_type": "code",
   "execution_count": 20,
   "metadata": {},
   "outputs": [
    {
     "data": {
      "text/plain": [
       "'190'"
      ]
     },
     "execution_count": 20,
     "metadata": {},
     "output_type": "execute_result"
    }
   ],
   "source": [
    "numero190"
   ]
  },
  {
   "cell_type": "markdown",
   "metadata": {},
   "source": [
    "Quando a variável recebe um nome que é uma palavra reservada"
   ]
  },
  {
   "cell_type": "code",
   "execution_count": 22,
   "metadata": {},
   "outputs": [
    {
     "ename": "SyntaxError",
     "evalue": "invalid syntax (<ipython-input-22-8f5dc4d25bee>, line 1)",
     "output_type": "error",
     "traceback": [
      "\u001b[0;36m  File \u001b[0;32m\"<ipython-input-22-8f5dc4d25bee>\"\u001b[0;36m, line \u001b[0;32m1\u001b[0m\n\u001b[0;31m    try = \"tente outra vez, brasileiro\"\u001b[0m\n\u001b[0m        ^\u001b[0m\n\u001b[0;31mSyntaxError\u001b[0m\u001b[0;31m:\u001b[0m invalid syntax\n"
     ]
    }
   ],
   "source": [
    "try = \"tente outra vez, brasileiro\""
   ]
  },
  {
   "cell_type": "code",
   "execution_count": 17,
   "metadata": {},
   "outputs": [],
   "source": [
    "_try = \"aí ta certo\""
   ]
  },
  {
   "cell_type": "code",
   "execution_count": 18,
   "metadata": {},
   "outputs": [
    {
     "data": {
      "text/plain": [
       "'aí ta certo'"
      ]
     },
     "execution_count": 18,
     "metadata": {},
     "output_type": "execute_result"
    }
   ],
   "source": [
    "_try"
   ]
  },
  {
   "cell_type": "markdown",
   "metadata": {},
   "source": [
    "## 2 - Expressões e instruções\n",
    "\n"
   ]
  },
  {
   "cell_type": "code",
   "execution_count": 31,
   "metadata": {},
   "outputs": [
    {
     "name": "stdout",
     "output_type": "stream",
     "text": [
      "20.859873828459\n"
     ]
    }
   ],
   "source": [
    "print(e + pi + 15)"
   ]
  },
  {
   "cell_type": "code",
   "execution_count": 30,
   "metadata": {},
   "outputs": [
    {
     "name": "stdout",
     "output_type": "stream",
     "text": [
      "190 , aí ta certo\n"
     ]
    }
   ],
   "source": [
    "print(numero190 +\" , \"+ _try)"
   ]
  },
  {
   "cell_type": "code",
   "execution_count": 64,
   "metadata": {},
   "outputs": [
    {
     "data": {
      "text/plain": [
       "'190190190190190190190190190190'"
      ]
     },
     "execution_count": 64,
     "metadata": {},
     "output_type": "execute_result"
    }
   ],
   "source": [
    "numero190 * 10"
   ]
  },
  {
   "cell_type": "code",
   "execution_count": 49,
   "metadata": {},
   "outputs": [
    {
     "name": "stdout",
     "output_type": "stream",
     "text": [
      "<class 'str'> <class 'str'>\n"
     ]
    }
   ],
   "source": [
    "print(type(numero190),  type(_try))"
   ]
  },
  {
   "cell_type": "code",
   "execution_count": 39,
   "metadata": {},
   "outputs": [
    {
     "name": "stdout",
     "output_type": "stream",
     "text": [
      "A circunferência é 12.566368\n"
     ]
    }
   ],
   "source": [
    "raio = 2\n",
    "Circunferencia = 2*pi*raio\n",
    "print(\"A circunferência é\", Circunferencia)"
   ]
  },
  {
   "cell_type": "code",
   "execution_count": 40,
   "metadata": {},
   "outputs": [
    {
     "ename": "TypeError",
     "evalue": "can only concatenate str (not \"float\") to str",
     "output_type": "error",
     "traceback": [
      "\u001b[0;31m-------------------------------------------------------------------------\u001b[0m",
      "\u001b[0;31mTypeError\u001b[0m                               Traceback (most recent call last)",
      "\u001b[0;32m<ipython-input-40-71c699007b08>\u001b[0m in \u001b[0;36m<module>\u001b[0;34m()\u001b[0m\n\u001b[1;32m      1\u001b[0m \u001b[0mraio\u001b[0m \u001b[0;34m=\u001b[0m \u001b[0;36m2\u001b[0m\u001b[0;34m\u001b[0m\u001b[0m\n\u001b[1;32m      2\u001b[0m \u001b[0mCircunferencia\u001b[0m \u001b[0;34m=\u001b[0m \u001b[0;36m2\u001b[0m\u001b[0;34m*\u001b[0m\u001b[0mpi\u001b[0m\u001b[0;34m*\u001b[0m\u001b[0mraio\u001b[0m\u001b[0;34m\u001b[0m\u001b[0m\n\u001b[0;32m----> 3\u001b[0;31m \u001b[0mprint\u001b[0m\u001b[0;34m(\u001b[0m\u001b[0;34m\"A circunferência é\"\u001b[0m \u001b[0;34m+\u001b[0m \u001b[0mCircunferencia\u001b[0m\u001b[0;34m)\u001b[0m\u001b[0;34m\u001b[0m\u001b[0m\n\u001b[0m",
      "\u001b[0;31mTypeError\u001b[0m: can only concatenate str (not \"float\") to str"
     ]
    }
   ],
   "source": [
    "raio = 2\n",
    "Circunferencia = 2*pi*raio\n",
    "print(\"A circunferência é\" + Circunferencia)"
   ]
  },
  {
   "cell_type": "markdown",
   "metadata": {},
   "source": [
    "**Por que não funcionooooou?**\n",
    "\n",
    "Basicamente está descrito na mensagem de erro... não há a possibilidade de concatenar dois tipos diferentes diferentes de dados, ou seja... concatenar é apenas para o tipo STRING + STRING, como vimos em uma das células anteriores\n",
    "\n",
    "FAREMOS O TESTE DE TIPOS APENAS PARA DEMONSTRAR: "
   ]
  },
  {
   "cell_type": "code",
   "execution_count": 41,
   "metadata": {},
   "outputs": [
    {
     "data": {
      "text/plain": [
       "int"
      ]
     },
     "execution_count": 41,
     "metadata": {},
     "output_type": "execute_result"
    }
   ],
   "source": [
    "type(raio)"
   ]
  },
  {
   "cell_type": "code",
   "execution_count": 42,
   "metadata": {},
   "outputs": [
    {
     "data": {
      "text/plain": [
       "float"
      ]
     },
     "execution_count": 42,
     "metadata": {},
     "output_type": "execute_result"
    }
   ],
   "source": [
    "type(pi)"
   ]
  },
  {
   "cell_type": "code",
   "execution_count": 43,
   "metadata": {},
   "outputs": [
    {
     "data": {
      "text/plain": [
       "str"
      ]
     },
     "execution_count": 43,
     "metadata": {},
     "output_type": "execute_result"
    }
   ],
   "source": [
    "type(\"A circunferência é\")"
   ]
  },
  {
   "cell_type": "markdown",
   "metadata": {},
   "source": [
    "## 3 - Ordem das operações (Precedência)\n",
    "\n",
    "|                   Operadores                  \t|                     Significado                     \t|\n",
    "|:---------------------------------------------:\t|:---------------------------------------------------:\t|\n",
    "|                       ()                      \t|                      Parentesis                     \t|\n",
    "|                       **                      \t|                       Expoente                      \t|\n",
    "|                   +x, -x, ~x                  \t|       Mais unário, menos unário e bitwise NOT       \t|\n",
    "|                      +, -                     \t|                  Adição e Subtração                 \t|\n",
    "|                     <<, >>                    \t|             Operadores de shift Bitwise             \t|\n",
    "|                       &                       \t|                     Bitwise AND                     \t|\n",
    "|                       ^                       \t|                     Bitwise XOR                     \t|\n",
    "|                       |                       \t|                      Bitwise OR                     \t|\n",
    "| ==, !=, >, >=, <, <=, is,  is not, in, not in \t| Comparações Identidades, e  operadores de Membresia \t|\n",
    "|                      not                      \t|                    Negação lógica                   \t|\n",
    "|                      and                      \t|                     Logical AND                     \t|\n",
    "|                       or                      \t|                      Logical OR                     \t|\n"
   ]
  },
  {
   "cell_type": "code",
   "execution_count": 51,
   "metadata": {},
   "outputs": [
    {
     "data": {
      "text/plain": [
       "308915776"
      ]
     },
     "execution_count": 51,
     "metadata": {},
     "output_type": "execute_result"
    }
   ],
   "source": [
    "(36 - 10)**(12-6)"
   ]
  },
  {
   "cell_type": "code",
   "execution_count": 63,
   "metadata": {},
   "outputs": [
    {
     "name": "stdout",
     "output_type": "stream",
     "text": [
      "35.55555555555556\n"
     ]
    }
   ],
   "source": [
    "fahrenheit = 96\n",
    "\n",
    "celcius = ((fahrenheit - 32)/(212-32))*100\n",
    "print(celcius)"
   ]
  },
  {
   "cell_type": "markdown",
   "metadata": {},
   "source": [
    "## 4 - Boleanos , comparadores e operadores lógicos\n",
    "#### Boleanos\n",
    "Uma expressão boleana pode ser entendida se for explicada como uma comparação, ou seja, ela como o resultado de uma comparação de um determinado termo com outro termo, porém, não tem apenas essa abordagem podendo também expressar um  estado. As expressões boleanas tem dois tipos de resultados, true e false."
   ]
  },
  {
   "cell_type": "code",
   "execution_count": 5,
   "metadata": {},
   "outputs": [
    {
     "data": {
      "text/plain": [
       "True"
      ]
     },
     "execution_count": 5,
     "metadata": {},
     "output_type": "execute_result"
    }
   ],
   "source": [
    "130 == 130 "
   ]
  },
  {
   "cell_type": "code",
   "execution_count": 6,
   "metadata": {},
   "outputs": [
    {
     "data": {
      "text/plain": [
       "True"
      ]
     },
     "execution_count": 6,
     "metadata": {},
     "output_type": "execute_result"
    }
   ],
   "source": [
    "\"Coração\" == \"Coração\""
   ]
  },
  {
   "cell_type": "code",
   "execution_count": 9,
   "metadata": {},
   "outputs": [
    {
     "data": {
      "text/plain": [
       "False"
      ]
     },
     "execution_count": 9,
     "metadata": {},
     "output_type": "execute_result"
    }
   ],
   "source": [
    "1 == 0"
   ]
  },
  {
   "cell_type": "markdown",
   "metadata": {},
   "source": [
    "#### Podemos então apresentar os Comparadores\n",
    "\n",
    "Operadores comparadores simples são os seguintes:\n",
    "\n",
    "|Operador  \t|   Descrição  \t|\n",
    "|:---------:|:-------------:|\n",
    "|  <  \t    |  Maior que  \t|\n",
    "| <=  \t    | Maior Igual \t|\n",
    "|  >  \t    |  Menor que  \t|\n",
    "|  >= \t    |  Menor que  \t|\n",
    "|  == \t    |    Igual    \t|\n",
    "|  != \t    |  Diferente  \t|"
   ]
  },
  {
   "cell_type": "code",
   "execution_count": 13,
   "metadata": {},
   "outputs": [
    {
     "data": {
      "text/plain": [
       "True"
      ]
     },
     "execution_count": 13,
     "metadata": {},
     "output_type": "execute_result"
    }
   ],
   "source": [
    "3 > 2"
   ]
  },
  {
   "cell_type": "code",
   "execution_count": 14,
   "metadata": {},
   "outputs": [
    {
     "data": {
      "text/plain": [
       "False"
      ]
     },
     "execution_count": 14,
     "metadata": {},
     "output_type": "execute_result"
    }
   ],
   "source": [
    "4 >= 6"
   ]
  },
  {
   "cell_type": "code",
   "execution_count": 15,
   "metadata": {},
   "outputs": [
    {
     "data": {
      "text/plain": [
       "False"
      ]
     },
     "execution_count": 15,
     "metadata": {},
     "output_type": "execute_result"
    }
   ],
   "source": [
    "\"Dragão\" != \"Dragão\""
   ]
  },
  {
   "cell_type": "code",
   "execution_count": 16,
   "metadata": {},
   "outputs": [
    {
     "data": {
      "text/plain": [
       "True"
      ]
     },
     "execution_count": 16,
     "metadata": {},
     "output_type": "execute_result"
    }
   ],
   "source": [
    "type(\"holly\") == type(\"3452347\")"
   ]
  },
  {
   "cell_type": "markdown",
   "metadata": {},
   "source": [
    "### Operadores lógicos\n",
    "\n",
    "Operações Lógicas são ensinadas de diferentes formas, por exemplo, em cursos de eletrônica é ensinado portas lógicas, já em programação aprendemos os operadores lógicos, mas no fundo é a mesma coisa e se você entender a ideia das operações lógicas você pode usar esse conhecimento em qualquer área da tecnologia.\n",
    "\n",
    "| Operação \t| Significado \t|\n",
    "|:--------:\t|:-----------:\t|\n",
    "|    and   \t|      e      \t|\n",
    "|    or    \t|      ou     \t|\n",
    "|    not   \t|     não     \t|"
   ]
  },
  {
   "cell_type": "code",
   "execution_count": 26,
   "metadata": {},
   "outputs": [
    {
     "name": "stdout",
     "output_type": "stream",
     "text": [
      "Tabela verdade AND\n",
      " X | Y | S\n",
      "-----------\n",
      " 0 | 0 | 0\n",
      " 0 | 1 | 0\n",
      " 1 | 0 | 0\n",
      " 1 | 1 | 1\n"
     ]
    }
   ],
   "source": [
    "print(\"Tabela verdade AND\")\n",
    "print( \" X | Y | S\", )\n",
    "print(\"-----------\")\n",
    "print( \" 0 | 0 |\", 0 and 0)\n",
    "print( \" 0 | 1 |\", 0 and 1)\n",
    "print( \" 1 | 0 |\", 1 and 0)\n",
    "print( \" 1 | 1 |\", 1 and 1)"
   ]
  },
  {
   "cell_type": "code",
   "execution_count": 65,
   "metadata": {},
   "outputs": [
    {
     "name": "stdout",
     "output_type": "stream",
     "text": [
      "Tabela verdade OR\n",
      " X | Y | S\n",
      "-----------\n",
      " 0 | 0 | 0\n",
      " 0 | 1 | 1\n",
      " 1 | 0 | 1\n",
      " 1 | 1 | 1\n"
     ]
    }
   ],
   "source": [
    "print(\"Tabela verdade OR\")\n",
    "print( \" X | Y | S\", )\n",
    "print(\"-----------\")\n",
    "print( \" 0 | 0 |\", 0 or 0)\n",
    "print( \" 0 | 1 |\", 0 or 1)\n",
    "print( \" 1 | 0 |\", 1 or 0)\n",
    "print( \" 1 | 1 |\", 1 or 1)"
   ]
  },
  {
   "cell_type": "code",
   "execution_count": 36,
   "metadata": {},
   "outputs": [
    {
     "name": "stdout",
     "output_type": "stream",
     "text": [
      " ~X | S \n",
      "---------\n",
      " 0  | True\n",
      " 1  | False\n"
     ]
    }
   ],
   "source": [
    "print( \" ~X | S \")\n",
    "print(\"---------\")\n",
    "print( \" 0  |\", not 0)\n",
    "print( \" 1  |\", not 1)\n"
   ]
  },
  {
   "cell_type": "markdown",
   "metadata": {},
   "source": [
    "## 5 - Execução condicional\n",
    "\n",
    "Execuções Condicionais são parâmetros que definem SE trechos de códigos serão efetuados dadas alguamas restrições que são passadas ao código"
   ]
  },
  {
   "cell_type": "code",
   "execution_count": 37,
   "metadata": {},
   "outputs": [
    {
     "name": "stdout",
     "output_type": "stream",
     "text": [
      "Todo mundo feliz - have a chocolat\n"
     ]
    }
   ],
   "source": [
    "minicurso = 10\n",
    "show = 10\n",
    "if (minicurso == show):\n",
    "    print( \"Todo mundo feliz - have a chocolat\")\n",
    "else: \n",
    "    print(\" Tu nem é gente!!!\")"
   ]
  },
  {
   "cell_type": "code",
   "execution_count": 47,
   "metadata": {},
   "outputs": [
    {
     "name": "stdout",
     "output_type": "stream",
     "text": [
      " EOQ? \n",
      " EOQ dnv? \n"
     ]
    }
   ],
   "source": [
    "minicurso = 7\n",
    "show = 10\n",
    "if not minicurso >= show: \n",
    "    print( \" EOQ? \")\n",
    "    \n",
    "if minicurso < show: \n",
    "    print( \" EOQ dnv? \")"
   ]
  },
  {
   "cell_type": "markdown",
   "metadata": {},
   "source": [
    "#### Aplicação de ELIF\n",
    "**elif** é uma abreviatura de “else if”. Novamente, exatamente um ramo será executado. Não há nenhum limite para o número de instruções elif."
   ]
  },
  {
   "cell_type": "code",
   "execution_count": 59,
   "metadata": {},
   "outputs": [
    {
     "name": "stdout",
     "output_type": "stream",
     "text": [
      "FINAL  6.0\n"
     ]
    }
   ],
   "source": [
    "nota1 = 8\n",
    "nota2 = 10\n",
    "nota3 = 0\n",
    "media = (nota1+nota2+nota3)/3\n",
    "\n",
    "if media <= 7 and media >= 5:\n",
    "    print(\"FINAL \",media)\n",
    "elif media >= 7:\n",
    "    print(\"PASSOU \", media)\n",
    "else: \n",
    "    print(\"sem jeito \", media)"
   ]
  },
  {
   "cell_type": "markdown",
   "metadata": {},
   "source": [
    "## 5 - Laços de repetição - While e For\n",
    "\n",
    "### While \n",
    "\n",
    "Temos um fluxo de execução para uma instrução **while**:\n",
    "1 - Determine se a condição é verdadeira ou falsa.\n",
    "2 - Se for falsa, saia da instrução while e continue a execução da próxima instrução.\n",
    "3 - Se a condição for verdadeira, execute o corpo e então volte ao passo 1.\n",
    "4 - Este tipo de fluxo chama-se loop (laço), porque o terceiro passo faz um loop de volta ao topo.\n",
    "\n"
   ]
  },
  {
   "cell_type": "code",
   "execution_count": 160,
   "metadata": {},
   "outputs": [
    {
     "name": "stdout",
     "output_type": "stream",
     "text": [
      "2  é PRIMO\n",
      "3  é PRIMO\n",
      "5  é PRIMO\n",
      "7  é PRIMO\n",
      "11  é PRIMO\n",
      "13  é PRIMO\n",
      "17  é PRIMO\n",
      "19  é PRIMO\n",
      "23  é PRIMO\n",
      "29  é PRIMO\n",
      "31  é PRIMO\n",
      "37  é PRIMO\n",
      "41  é PRIMO\n",
      "43  é PRIMO\n",
      "47  é PRIMO\n",
      "53  é PRIMO\n",
      "59  é PRIMO\n",
      "61  é PRIMO\n",
      "67  é PRIMO\n",
      "71  é PRIMO\n",
      "73  é PRIMO\n",
      "79  é PRIMO\n",
      "83  é PRIMO\n",
      "89  é PRIMO\n",
      "97  é PRIMO\n",
      "101  é PRIMO\n",
      "103  é PRIMO\n",
      "107  é PRIMO\n",
      "109  é PRIMO\n",
      "113  é PRIMO\n",
      "127  é PRIMO\n",
      "131  é PRIMO\n",
      "137  é PRIMO\n",
      "139  é PRIMO\n",
      "149  é PRIMO\n",
      "151  é PRIMO\n",
      "157  é PRIMO\n",
      "163  é PRIMO\n",
      "167  é PRIMO\n",
      "173  é PRIMO\n",
      "179  é PRIMO\n",
      "181  é PRIMO\n",
      "191  é PRIMO\n",
      "193  é PRIMO\n",
      "197  é PRIMO\n",
      "199  é PRIMO\n",
      "211  é PRIMO\n",
      "223  é PRIMO\n",
      "227  é PRIMO\n",
      "229  é PRIMO\n",
      "233  é PRIMO\n",
      "239  é PRIMO\n",
      "241  é PRIMO\n",
      "251  é PRIMO\n",
      "257  é PRIMO\n",
      "263  é PRIMO\n",
      "269  é PRIMO\n",
      "271  é PRIMO\n",
      "277  é PRIMO\n",
      "281  é PRIMO\n",
      "283  é PRIMO\n",
      "293  é PRIMO\n",
      "307  é PRIMO\n",
      "311  é PRIMO\n",
      "313  é PRIMO\n",
      "317  é PRIMO\n",
      "331  é PRIMO\n",
      "337  é PRIMO\n",
      "347  é PRIMO\n",
      "349  é PRIMO\n",
      "353  é PRIMO\n",
      "359  é PRIMO\n",
      "367  é PRIMO\n",
      "373  é PRIMO\n",
      "379  é PRIMO\n",
      "383  é PRIMO\n",
      "389  é PRIMO\n",
      "397  é PRIMO\n",
      "401  é PRIMO\n",
      "409  é PRIMO\n",
      "419  é PRIMO\n",
      "421  é PRIMO\n",
      "431  é PRIMO\n",
      "433  é PRIMO\n",
      "439  é PRIMO\n",
      "443  é PRIMO\n",
      "449  é PRIMO\n",
      "457  é PRIMO\n",
      "461  é PRIMO\n",
      "463  é PRIMO\n",
      "467  é PRIMO\n",
      "479  é PRIMO\n",
      "487  é PRIMO\n",
      "491  é PRIMO\n",
      "499  é PRIMO\n",
      "503  é PRIMO\n",
      "509  é PRIMO\n",
      "521  é PRIMO\n",
      "523  é PRIMO\n",
      "541  é PRIMO\n",
      "547  é PRIMO\n",
      "557  é PRIMO\n",
      "563  é PRIMO\n",
      "569  é PRIMO\n",
      "571  é PRIMO\n",
      "577  é PRIMO\n",
      "587  é PRIMO\n",
      "593  é PRIMO\n",
      "599  é PRIMO\n",
      "601  é PRIMO\n",
      "607  é PRIMO\n",
      "613  é PRIMO\n",
      "617  é PRIMO\n",
      "619  é PRIMO\n",
      "631  é PRIMO\n",
      "641  é PRIMO\n",
      "643  é PRIMO\n",
      "647  é PRIMO\n",
      "653  é PRIMO\n",
      "659  é PRIMO\n",
      "661  é PRIMO\n",
      "673  é PRIMO\n",
      "677  é PRIMO\n",
      "683  é PRIMO\n",
      "691  é PRIMO\n",
      "701  é PRIMO\n",
      "709  é PRIMO\n",
      "719  é PRIMO\n",
      "727  é PRIMO\n",
      "733  é PRIMO\n",
      "739  é PRIMO\n",
      "743  é PRIMO\n",
      "751  é PRIMO\n",
      "757  é PRIMO\n",
      "761  é PRIMO\n",
      "769  é PRIMO\n",
      "773  é PRIMO\n",
      "787  é PRIMO\n",
      "797  é PRIMO\n",
      "809  é PRIMO\n",
      "811  é PRIMO\n",
      "821  é PRIMO\n",
      "823  é PRIMO\n",
      "827  é PRIMO\n",
      "829  é PRIMO\n",
      "839  é PRIMO\n",
      "853  é PRIMO\n",
      "857  é PRIMO\n",
      "859  é PRIMO\n",
      "863  é PRIMO\n",
      "877  é PRIMO\n",
      "881  é PRIMO\n",
      "883  é PRIMO\n",
      "887  é PRIMO\n",
      "907  é PRIMO\n",
      "911  é PRIMO\n",
      "919  é PRIMO\n",
      "929  é PRIMO\n",
      "937  é PRIMO\n",
      "941  é PRIMO\n",
      "947  é PRIMO\n",
      "953  é PRIMO\n",
      "967  é PRIMO\n",
      "971  é PRIMO\n",
      "977  é PRIMO\n",
      "983  é PRIMO\n",
      "991  é PRIMO\n",
      "997  é PRIMO\n"
     ]
    }
   ],
   "source": [
    "# primos em 1000 numeros\n",
    "tamanho = 1000\n",
    "i = 1\n",
    "while i <= tamanho: \n",
    "    #Último numero sempre é, portanto, não é considerado\n",
    "    j = 2\n",
    "    cont = 0\n",
    "    while j < i:\n",
    "        if i%j == 0:\n",
    "            break\n",
    "        else: \n",
    "            cont += 1\n",
    "        j += 1\n",
    "    if cont == (i - 2):\n",
    "        print(i,\" é PRIMO\")\n",
    "    i += 1"
   ]
  },
  {
   "cell_type": "markdown",
   "metadata": {},
   "source": [
    "### for\n",
    "A instrução for se caracteriza por obrigar o programador a definir, explicitamente em seu cabeçalho, a **quantidade de vezes que será executado**. A quantidade de ciclos é determinado pela quantidade de elementos contido na lista declarada junto com a instrução for. Dessa forma, será executado um ciclo para cada elemento isoladamente.\n"
   ]
  },
  {
   "cell_type": "code",
   "execution_count": 165,
   "metadata": {},
   "outputs": [
    {
     "name": "stdout",
     "output_type": "stream",
     "text": [
      "0  1  2  3  4  5  6  7  8  9  "
     ]
    }
   ],
   "source": [
    "for item in range(10):\n",
    "    print(item,\" \", end=\"\")"
   ]
  },
  {
   "cell_type": "code",
   "execution_count": 167,
   "metadata": {},
   "outputs": [
    {
     "name": "stdout",
     "output_type": "stream",
     "text": [
      "5  7  9  11  13  15  17  19  21  23  "
     ]
    }
   ],
   "source": [
    "for item in range(5,25,2):\n",
    "    print(item,\" \", end=\"\")"
   ]
  },
  {
   "cell_type": "code",
   "execution_count": 169,
   "metadata": {},
   "outputs": [
    {
     "name": "stdout",
     "output_type": "stream",
     "text": [
      "100  95  90  85  80  75  70  65  60  55  50  45  40  35  30  25  20  15  10  5  "
     ]
    }
   ],
   "source": [
    "for item in range(100,0,-5):\n",
    "    print(item,\" \", end=\"\")"
   ]
  },
  {
   "cell_type": "code",
   "execution_count": 171,
   "metadata": {},
   "outputs": [
    {
     "name": "stdout",
     "output_type": "stream",
     "text": [
      "x :  P\n",
      "x :  r\n",
      "x :  o\n",
      "x :  T\n",
      "x :  u\n",
      "x :  t\n"
     ]
    }
   ],
   "source": [
    "for letras in 'ProTut':\n",
    "   print('x : ', letras)"
   ]
  },
  {
   "cell_type": "markdown",
   "metadata": {},
   "source": [
    "## 6 - Listas\n",
    "\n",
    "Como uma string, uma lista é uma sequência de valores. Em uma string, os valores são caracteres;\n",
    "em uma lista, eles podem ser de qualquer tipo. Os valores em uma lista são chamados de elementos,\n",
    "ou, algumas vezes, de itens."
   ]
  },
  {
   "cell_type": "code",
   "execution_count": 260,
   "metadata": {},
   "outputs": [
    {
     "name": "stdout",
     "output_type": "stream",
     "text": [
      "LISTA ->  [1, 2, 3, 4, 5, 6, 7, 8, 9]  TAM ->  9\n",
      "MAX:  9 \n",
      "MIN:  1\n"
     ]
    }
   ],
   "source": [
    "x = [1,2,3,4,5,6,7,8,9]\n",
    "print(\"LISTA -> \", x,\" TAM -> \",len(x))\n",
    "print(\"MAX: \", max(x) ,\"\\nMIN: \", min(x))"
   ]
  },
  {
   "cell_type": "code",
   "execution_count": 261,
   "metadata": {},
   "outputs": [
    {
     "name": "stdout",
     "output_type": "stream",
     "text": [
      "LISTA ->  [0, 0, 0, 0, 0, 0, 0, 0, 0, 0, 0, 0, 0, 0, 0, 0, 0, 0, 0, 0]  TAM ->  20\n"
     ]
    }
   ],
   "source": [
    "x = [0]*20\n",
    "print(\"LISTA -> \", x,\" TAM -> \",len(x))"
   ]
  },
  {
   "cell_type": "code",
   "execution_count": 262,
   "metadata": {},
   "outputs": [
    {
     "name": "stdout",
     "output_type": "stream",
     "text": [
      "LISTA ->  ['D', 'A', 'L', 'E', ' ', 'P', 'R', 'O', 'T', 'U', 'T']  TAM ->  11\n"
     ]
    }
   ],
   "source": [
    "x = list(\"DALE PROTUT\")\n",
    "print(\"LISTA -> \", x,\" TAM -> \",len(x))"
   ]
  },
  {
   "cell_type": "code",
   "execution_count": 263,
   "metadata": {},
   "outputs": [
    {
     "name": "stdout",
     "output_type": "stream",
     "text": [
      "['P', 'R', 'O', 'T', 'U']\n",
      "['L', 'E', ' ', 'P']\n",
      "['D', 'A', 'L', 'E', ' ', 'P', 'R']\n",
      "['L', 'E', ' ', 'P', 'R', 'O', 'T', 'U', 'T']\n"
     ]
    }
   ],
   "source": [
    "print(x[5:10])\n",
    "print(x[2:-5])\n",
    "print(x[:-4])\n",
    "print(x[2:])"
   ]
  },
  {
   "cell_type": "code",
   "execution_count": 264,
   "metadata": {},
   "outputs": [
    {
     "name": "stdout",
     "output_type": "stream",
     "text": [
      "LISTA ->  []  TAM ->  0\n"
     ]
    }
   ],
   "source": [
    "y = []\n",
    "print(\"LISTA -> \", y,\" TAM -> \",len(y))"
   ]
  },
  {
   "cell_type": "code",
   "execution_count": 265,
   "metadata": {},
   "outputs": [
    {
     "name": "stdout",
     "output_type": "stream",
     "text": [
      "['Jaqueline', 'Moises', 'Gustavo', 'Icaro', 'Sandoval', 'Franklin']\n"
     ]
    }
   ],
   "source": [
    "y = [\"Franklin\", \"Sandoval\", \"Icaro\", \"Gustavo\", \"Moises\", \"Jaqueline\"]\n",
    "print(list(reversed(y)))\n"
   ]
  },
  {
   "cell_type": "code",
   "execution_count": 266,
   "metadata": {},
   "outputs": [
    {
     "name": "stdout",
     "output_type": "stream",
     "text": [
      "['Jaqueline', 'Moises', 'Gustavo', 'Icaro', 'Sandoval', 'Franklin']\n"
     ]
    }
   ],
   "source": [
    "# INICIO:FIM:PASSO\n",
    "print(y [::-1])"
   ]
  },
  {
   "cell_type": "code",
   "execution_count": 267,
   "metadata": {},
   "outputs": [
    {
     "name": "stdout",
     "output_type": "stream",
     "text": [
      "['Gustavo', 'Moises', 'Jaqueline', 'Danilo', 'Gabriel', 'Thales', 'Dayvison', 'Franklin', 'Sandoval']\n"
     ]
    }
   ],
   "source": [
    "lista_1 = y[:2]; lista_2 = y[3:]; lista_3 = [\"Dayvison\", \"Thales\", \"Gabriel\", \"Danilo\"]\n",
    "prolista = lista_2 + lista_3[::-1] + lista_1\n",
    "print(prolista)"
   ]
  },
  {
   "cell_type": "code",
   "execution_count": 256,
   "metadata": {},
   "outputs": [
    {
     "data": {
      "text/plain": [
       "['Gustavo',\n",
       " 'Moises',\n",
       " 'Jaqueline',\n",
       " 'Gustavo',\n",
       " 'Moises',\n",
       " 'Jaqueline',\n",
       " 'Gustavo',\n",
       " 'Moises',\n",
       " 'Jaqueline',\n",
       " 'Gustavo',\n",
       " 'Moises',\n",
       " 'Jaqueline',\n",
       " 'Gustavo',\n",
       " 'Moises',\n",
       " 'Jaqueline']"
      ]
     },
     "execution_count": 256,
     "metadata": {},
     "output_type": "execute_result"
    }
   ],
   "source": [
    "novo_protut = lista_2*5\n",
    "novo_protut"
   ]
  },
  {
   "cell_type": "code",
   "execution_count": 258,
   "metadata": {},
   "outputs": [
    {
     "data": {
      "text/plain": [
       "True"
      ]
     },
     "execution_count": 258,
     "metadata": {},
     "output_type": "execute_result"
    }
   ],
   "source": [
    "\"Jaqueline\" in prolista"
   ]
  },
  {
   "cell_type": "code",
   "execution_count": 297,
   "metadata": {},
   "outputs": [
    {
     "data": {
      "text/plain": [
       "[0, 15, 20, 5, 6, 9, 3, 33, 7, 89, 3, 100, 53, 3, 44, 99, 1, 1000]"
      ]
     },
     "execution_count": 297,
     "metadata": {},
     "output_type": "execute_result"
    }
   ],
   "source": [
    "lista = [0, 15, 20, 5, 6 ,9 ,3 ,33 , 7, 89, 3, 100, 53, 3, 44, 99, 1]\n",
    "lista.append(1000)\n",
    "lista"
   ]
  },
  {
   "cell_type": "code",
   "execution_count": 298,
   "metadata": {},
   "outputs": [
    {
     "name": "stdout",
     "output_type": "stream",
     "text": [
      "3\n",
      "6 14\n"
     ]
    }
   ],
   "source": [
    "print(lista.count(3))\n",
    "print(lista.index(3), lista.index(44))"
   ]
  },
  {
   "cell_type": "code",
   "execution_count": 299,
   "metadata": {},
   "outputs": [
    {
     "data": {
      "text/plain": [
       "[0, 15, 20, 5, 6, 1000, 9, 3, 33, 7, 89, 3, 100, 53, 3, 44, 99, 1, 1000]"
      ]
     },
     "execution_count": 299,
     "metadata": {},
     "output_type": "execute_result"
    }
   ],
   "source": [
    "lista.insert(5,1000)\n",
    "lista"
   ]
  },
  {
   "cell_type": "code",
   "execution_count": 300,
   "metadata": {},
   "outputs": [
    {
     "name": "stdout",
     "output_type": "stream",
     "text": [
      "1000\n",
      "[0, 15, 20, 5, 6, 9, 3, 33, 7, 89, 3, 100, 53, 3, 44, 99, 1, 1000]\n"
     ]
    }
   ],
   "source": [
    "print(lista.pop(5))\n",
    "print(lista)"
   ]
  },
  {
   "cell_type": "code",
   "execution_count": 301,
   "metadata": {},
   "outputs": [
    {
     "name": "stdout",
     "output_type": "stream",
     "text": [
      "[0, 15, 20, 5, 6, 9, 33, 7, 89, 3, 100, 53, 3, 44, 99, 1, 1000]\n"
     ]
    }
   ],
   "source": [
    "#Retira apenas o primeiro encontrado\n",
    "lista.remove(3)\n",
    "print(lista)"
   ]
  },
  {
   "cell_type": "code",
   "execution_count": 327,
   "metadata": {},
   "outputs": [
    {
     "name": "stdout",
     "output_type": "stream",
     "text": [
      "[0, 1, 3, 3, 5, 6, 7, 9, 15, 20, 33, 44, 53, 89, 99, 100, 1000]\n"
     ]
    },
    {
     "data": {
      "text/plain": [
       "1487"
      ]
     },
     "execution_count": 327,
     "metadata": {},
     "output_type": "execute_result"
    }
   ],
   "source": [
    "lista.sort()\n",
    "print(lista)\n",
    "sum(lista)"
   ]
  },
  {
   "cell_type": "markdown",
   "metadata": {},
   "source": [
    "### For para listas"
   ]
  },
  {
   "cell_type": "code",
   "execution_count": 312,
   "metadata": {},
   "outputs": [
    {
     "name": "stdout",
     "output_type": "stream",
     "text": [
      "0\n",
      "1\n",
      "3\n",
      "3\n",
      "5\n",
      "6\n",
      "7\n",
      "9\n",
      "15\n",
      "20\n",
      "33\n",
      "44\n",
      "53\n",
      "89\n",
      "99\n",
      "100\n",
      "1000\n"
     ]
    }
   ],
   "source": [
    "for i in range(len(lista)):\n",
    "    print(lista[i])"
   ]
  },
  {
   "cell_type": "code",
   "execution_count": 315,
   "metadata": {},
   "outputs": [
    {
     "name": "stdout",
     "output_type": "stream",
     "text": [
      "0\n",
      "1\n",
      "3\n",
      "3\n",
      "5\n",
      "6\n",
      "7\n",
      "9\n",
      "15\n",
      "20\n",
      "33\n",
      "44\n",
      "53\n",
      "89\n",
      "99\n",
      "100\n",
      "1000\n"
     ]
    }
   ],
   "source": [
    "for i in lista:\n",
    "    print(i)"
   ]
  },
  {
   "cell_type": "code",
   "execution_count": 319,
   "metadata": {},
   "outputs": [
    {
     "name": "stdout",
     "output_type": "stream",
     "text": [
      "0 0\n",
      "1 1\n",
      "2 3\n",
      "3 3\n",
      "4 5\n",
      "5 6\n",
      "6 7\n",
      "7 9\n",
      "8 15\n",
      "9 20\n",
      "10 33\n",
      "11 44\n",
      "12 53\n",
      "13 89\n",
      "14 99\n",
      "15 100\n",
      "16 1000\n"
     ]
    }
   ],
   "source": [
    "for i, j in list(enumerate(lista)):\n",
    "    print(i, j)"
   ]
  },
  {
   "cell_type": "markdown",
   "metadata": {},
   "source": [
    "### Cópias de listas"
   ]
  },
  {
   "cell_type": "code",
   "execution_count": 322,
   "metadata": {},
   "outputs": [
    {
     "name": "stdout",
     "output_type": "stream",
     "text": [
      "['john', 'peter', 'james', 'luke']\n"
     ]
    }
   ],
   "source": [
    "a = [\"john\",\"peter\",\"james\",\"luke\"]\n",
    "b = a\n",
    "print(b)"
   ]
  },
  {
   "cell_type": "code",
   "execution_count": 324,
   "metadata": {},
   "outputs": [
    {
     "name": "stdout",
     "output_type": "stream",
     "text": [
      "['john', 'peter', 'james', 'luke', 'paul']\n",
      "['john', 'peter', 'james', 'luke', 'paul']\n"
     ]
    }
   ],
   "source": [
    "b.append(\"paul\")\n",
    "print(a)\n",
    "print(b)"
   ]
  },
  {
   "cell_type": "markdown",
   "metadata": {},
   "source": [
    "**Isso acontece por que são copaiadas as referências de uma lista para outra e não seus valores, por isso podemos dizer que quando fazemos uma atribuição assim, estamos copiando os endereços**"
   ]
  },
  {
   "cell_type": "code",
   "execution_count": 325,
   "metadata": {},
   "outputs": [
    {
     "name": "stdout",
     "output_type": "stream",
     "text": [
      "['john', 'peter', 'james', 'luke', 'paul']\n",
      "['john', 'peter', 'james', 'luke', 'paul', 'mark']\n"
     ]
    }
   ],
   "source": [
    "c = a[:]\n",
    "c.append(\"mark\")\n",
    "print(a)\n",
    "print(c)"
   ]
  },
  {
   "cell_type": "markdown",
   "metadata": {},
   "source": [
    "**Clonando listas fazemos copias de uma lista sem manter a referência entre elas, podemos utilizar o operador de fatia para isso.**"
   ]
  },
  {
   "cell_type": "code",
   "execution_count": 326,
   "metadata": {},
   "outputs": [
    {
     "name": "stdout",
     "output_type": "stream",
     "text": [
      "['john', 'james', 'luke', 'paul', 'mark']\n",
      "['john', 'peter', 'james', 'luke', 'paul']\n"
     ]
    }
   ],
   "source": [
    "c.remove('peter')\n",
    "print(c)\n",
    "print(a)"
   ]
  },
  {
   "cell_type": "code",
   "execution_count": 328,
   "metadata": {},
   "outputs": [
    {
     "ename": "NameError",
     "evalue": "name 'c' is not defined",
     "output_type": "error",
     "traceback": [
      "\u001b[0;31m---------------------------------------------------------------------------\u001b[0m",
      "\u001b[0;31mNameError\u001b[0m                                 Traceback (most recent call last)",
      "\u001b[0;32m<ipython-input-328-786e282091dd>\u001b[0m in \u001b[0;36m<module>\u001b[0;34m()\u001b[0m\n\u001b[1;32m      1\u001b[0m \u001b[0;32mdel\u001b[0m \u001b[0mc\u001b[0m\u001b[0;34m\u001b[0m\u001b[0m\n\u001b[0;32m----> 2\u001b[0;31m \u001b[0mprint\u001b[0m\u001b[0;34m(\u001b[0m\u001b[0mc\u001b[0m\u001b[0;34m)\u001b[0m\u001b[0;34m\u001b[0m\u001b[0m\n\u001b[0m",
      "\u001b[0;31mNameError\u001b[0m: name 'c' is not defined"
     ]
    }
   ],
   "source": [
    "del c\n",
    "print(c)"
   ]
  },
  {
   "cell_type": "markdown",
   "metadata": {},
   "source": [
    "## 7 - Funções \n",
    "\n",
    "Em Python, uma função é uma sequência de comandos que executa alguma tarefa e que tem um nome. A sua principal finalidade é nos ajudar a organizar programas em pedaços que correspondam a como imaginamos uma solução do problema."
   ]
  },
  {
   "cell_type": "code",
   "execution_count": 2,
   "metadata": {},
   "outputs": [],
   "source": [
    "def add(a, b):\n",
    "    return a + b\n",
    "def subtract(a, b):\n",
    "    return a - b"
   ]
  },
  {
   "cell_type": "code",
   "execution_count": 4,
   "metadata": {},
   "outputs": [],
   "source": [
    "def exibe(res):\n",
    "    print (\"RESULTADO : \", res)\n"
   ]
  },
  {
   "cell_type": "code",
   "execution_count": 5,
   "metadata": {},
   "outputs": [
    {
     "data": {
      "text/plain": [
       "5"
      ]
     },
     "execution_count": 5,
     "metadata": {},
     "output_type": "execute_result"
    }
   ],
   "source": [
    "add(1,4)"
   ]
  },
  {
   "cell_type": "code",
   "execution_count": 6,
   "metadata": {},
   "outputs": [
    {
     "data": {
      "text/plain": [
       "-90"
      ]
     },
     "execution_count": 6,
     "metadata": {},
     "output_type": "execute_result"
    }
   ],
   "source": [
    "subtract(10,100)"
   ]
  },
  {
   "cell_type": "code",
   "execution_count": 8,
   "metadata": {},
   "outputs": [
    {
     "name": "stdout",
     "output_type": "stream",
     "text": [
      "RESULTADO :  30\n"
     ]
    }
   ],
   "source": [
    "exibe(subtract(100, 70))"
   ]
  },
  {
   "cell_type": "code",
   "execution_count": 10,
   "metadata": {},
   "outputs": [],
   "source": [
    "def somaAte(inicio,fim,passo):\n",
    "    if inicio > fim:\n",
    "        return 0\n",
    "    else:\n",
    "        return inicio + somaAte(inicio+passo, fim, passo)"
   ]
  },
  {
   "cell_type": "code",
   "execution_count": 15,
   "metadata": {},
   "outputs": [
    {
     "data": {
      "text/plain": [
       "55"
      ]
     },
     "execution_count": 15,
     "metadata": {},
     "output_type": "execute_result"
    }
   ],
   "source": [
    "x_inicial = 0\n",
    "x_final = 10\n",
    "passo = 1\n",
    "somaAte(x_inicial,x_final,passo)"
   ]
  },
  {
   "cell_type": "code",
   "execution_count": 16,
   "metadata": {},
   "outputs": [
    {
     "data": {
      "text/plain": [
       "2550"
      ]
     },
     "execution_count": 16,
     "metadata": {},
     "output_type": "execute_result"
    }
   ],
   "source": [
    "x_inicial = 0\n",
    "x_final = 100\n",
    "passo = 2\n",
    "somaAte(x_inicial,x_final,passo)"
   ]
  },
  {
   "cell_type": "code",
   "execution_count": 26,
   "metadata": {},
   "outputs": [],
   "source": [
    "def fatorial(fim):\n",
    "    if fim > 1:\n",
    "        return fim*fatorial(fim-1)\n",
    "    else:\n",
    "        return fim"
   ]
  },
  {
   "cell_type": "code",
   "execution_count": 27,
   "metadata": {},
   "outputs": [
    {
     "data": {
      "text/plain": [
       "24"
      ]
     },
     "execution_count": 27,
     "metadata": {},
     "output_type": "execute_result"
    }
   ],
   "source": [
    "fatorial(4)"
   ]
  },
  {
   "cell_type": "code",
   "execution_count": 28,
   "metadata": {},
   "outputs": [
    {
     "data": {
      "text/plain": [
       "120"
      ]
     },
     "execution_count": 28,
     "metadata": {},
     "output_type": "execute_result"
    }
   ],
   "source": [
    "fatorial(5)"
   ]
  },
  {
   "cell_type": "code",
   "execution_count": 32,
   "metadata": {},
   "outputs": [
    {
     "name": "stdout",
     "output_type": "stream",
     "text": [
      "[1, 1, 2, 4, 5, 24, 32, 33, 46, 49, 50, 78, 84]\n"
     ]
    }
   ],
   "source": [
    "def ordem(lis):\n",
    "    lis.sort()\n",
    "\n",
    "lista = [1,78,1,5,33,50,49,24,46,84,4,2,32]\n",
    "\n",
    "ordem(lista)\n",
    "\n",
    "print ( lista )"
   ]
  },
  {
   "cell_type": "markdown",
   "metadata": {},
   "source": [
    "## 8 Python Numérico\n",
    "\n",
    "Temos duas ferramentas que são necessárias para o desenvolvimento de python numérico de maneira a aproveitarmos o o poder matémático do Python, são elas **SIMPY** e **NUMPY**, veremos a seguir como usar basicamente elas duas"
   ]
  },
  {
   "cell_type": "code",
   "execution_count": 171,
   "metadata": {},
   "outputs": [],
   "source": [
    "from sympy import *\n",
    "import sympy as sp\n",
    "import numpy as np\n",
    "\n",
    "x, y = symbols('x y')\n",
    "z, w = symbols('z w')\n",
    "init_printing()"
   ]
  },
  {
   "cell_type": "markdown",
   "metadata": {},
   "source": [
    "### DEFINIÇÃO\n",
    "\n",
    "Definimos cada uma das funções como NUMÉRICAS e SIMBÓLICAS"
   ]
  },
  {
   "cell_type": "code",
   "execution_count": 172,
   "metadata": {},
   "outputs": [],
   "source": [
    "def sf(x): \n",
    "    return x**2+5*x-50\n",
    "\n",
    "def nf(x): \n",
    "    return x**2+5*x-50"
   ]
  },
  {
   "cell_type": "code",
   "execution_count": 173,
   "metadata": {},
   "outputs": [],
   "source": [
    "def sg(x):\n",
    "    return x**3+ (3*x) - 12\n",
    "\n",
    "def ng(x):\n",
    "    return x**3+ (3*x) - 12"
   ]
  },
  {
   "cell_type": "code",
   "execution_count": 174,
   "metadata": {},
   "outputs": [],
   "source": [
    "def sp(x):  \n",
    "    return sympy.sin(x)-(x**2)+4\n",
    "\n",
    "def np(x):  \n",
    "    return np.sin(x)-(x**2)+4"
   ]
  },
  {
   "cell_type": "code",
   "execution_count": 175,
   "metadata": {},
   "outputs": [],
   "source": [
    "def st(x): \n",
    "    return sympy.sin(x)-sympy.exp(x)\n",
    "\n",
    "def nt(x): \n",
    "    return np.sin(x)-np.exp(x)"
   ]
  },
  {
   "cell_type": "code",
   "execution_count": 176,
   "metadata": {},
   "outputs": [
    {
     "data": {
      "image/png": "[encoded data removed]",
      "text/latex": [
       "$$x^{2} + 5 x - 50$$"
      ],
      "text/plain": [
       " 2           \n",
       "x  + 5⋅x - 50"
      ]
     },
     "execution_count": 176,
     "metadata": {},
     "output_type": "execute_result"
    }
   ],
   "source": [
    "sf(x)"
   ]
  },
  {
   "cell_type": "code",
   "execution_count": 177,
   "metadata": {},
   "outputs": [
    {
     "data": {
      "image/png": "[encoded data removed]",
      "text/plain": [
       "<Figure size 432x288 with 1 Axes>"
      ]
     },
     "metadata": {
      "needs_background": "light"
     },
     "output_type": "display_data"
    },
    {
     "data": {
      "text/plain": [
       "<sympy.plotting.plot.Plot at 0x7f7e75987dd8>"
      ]
     },
     "execution_count": 177,
     "metadata": {},
     "output_type": "execute_result"
    }
   ],
   "source": [
    "plot(sf(x),(x,-20,10))"
   ]
  },
  {
   "cell_type": "code",
   "execution_count": 178,
   "metadata": {},
   "outputs": [
    {
     "data": {
      "image/png": "[encoded data removed]",
      "text/latex": [
       "$$y^{3} + 3 y - 12$$"
      ],
      "text/plain": [
       " 3           \n",
       "y  + 3⋅y - 12"
      ]
     },
     "execution_count": 178,
     "metadata": {},
     "output_type": "execute_result"
    }
   ],
   "source": [
    "sg(y)"
   ]
  },
  {
   "cell_type": "code",
   "execution_count": 179,
   "metadata": {},
   "outputs": [
    {
     "data": {
      "image/png": "[encoded data removed]",
      "text/plain": [
       "<Figure size 432x288 with 1 Axes>"
      ]
     },
     "metadata": {
      "needs_background": "light"
     },
     "output_type": "display_data"
    },
    {
     "data": {
      "image/png": "[encoded data removed]",
      "text/plain": [
       "<Figure size 432x288 with 1 Axes>"
      ]
     },
     "metadata": {
      "needs_background": "light"
     },
     "output_type": "display_data"
    },
    {
     "data": {
      "text/plain": [
       "<sympy.plotting.plot.Plot at 0x7f7e75cc44e0>"
      ]
     },
     "execution_count": 179,
     "metadata": {},
     "output_type": "execute_result"
    }
   ],
   "source": [
    "plot(sg(y),(y,-5,5))\n",
    "plot(sg(y),(y,-20,10))"
   ]
  },
  {
   "cell_type": "code",
   "execution_count": 180,
   "metadata": {},
   "outputs": [
    {
     "data": {
      "image/png": "[encoded data removed]",
      "text/latex": [
       "$$- z^{2} + \\sin{\\left (z \\right )} + 4$$"
      ],
      "text/plain": [
       "   2             \n",
       "- z  + sin(z) + 4"
      ]
     },
     "execution_count": 180,
     "metadata": {},
     "output_type": "execute_result"
    }
   ],
   "source": [
    "sp(z)"
   ]
  },
  {
   "cell_type": "code",
   "execution_count": 182,
   "metadata": {},
   "outputs": [
    {
     "data": {
      "image/png": "[encoded data removed]",
      "text/plain": [
       "<Figure size 432x288 with 1 Axes>"
      ]
     },
     "metadata": {
      "needs_background": "light"
     },
     "output_type": "display_data"
    },
    {
     "data": {
      "image/png": "[encoded data removed]",
      "text/plain": [
       "<Figure size 432x288 with 1 Axes>"
      ]
     },
     "metadata": {
      "needs_background": "light"
     },
     "output_type": "display_data"
    },
    {
     "data": {
      "text/plain": [
       "<sympy.plotting.plot.Plot at 0x7f7e75911160>"
      ]
     },
     "execution_count": 182,
     "metadata": {},
     "output_type": "execute_result"
    }
   ],
   "source": [
    "plot(sp(z),(z,-10,10))\n",
    "plot(sp(z),(z,-3,3))"
   ]
  },
  {
   "cell_type": "code",
   "execution_count": 186,
   "metadata": {},
   "outputs": [
    {
     "data": {
      "image/png": "[encoded data removed]",
      "text/latex": [
       "$$- e^{w} + \\sin{\\left (w \\right )}$$"
      ],
      "text/plain": [
       "   w         \n",
       "- ℯ  + sin(w)"
      ]
     },
     "execution_count": 186,
     "metadata": {},
     "output_type": "execute_result"
    }
   ],
   "source": [
    "st(w)"
   ]
  },
  {
   "cell_type": "code",
   "execution_count": 187,
   "metadata": {},
   "outputs": [
    {
     "data": {
      "image/png": "[encoded data removed]",
      "text/plain": [
       "<Figure size 432x288 with 1 Axes>"
      ]
     },
     "metadata": {
      "needs_background": "light"
     },
     "output_type": "display_data"
    },
    {
     "data": {
      "text/plain": [
       "<sympy.plotting.plot.Plot at 0x7f7e75802710>"
      ]
     },
     "execution_count": 187,
     "metadata": {},
     "output_type": "execute_result"
    }
   ],
   "source": [
    "plot(st(w),(w,-10,10))"
   ]
  },
  {
   "cell_type": "code",
   "execution_count": 188,
   "metadata": {},
   "outputs": [
    {
     "data": {
      "image/png": "[encoded data removed]",
      "text/latex": [
       "$$2 x + 5$$"
      ],
      "text/plain": [
       "2⋅x + 5"
      ]
     },
     "execution_count": 188,
     "metadata": {},
     "output_type": "execute_result"
    }
   ],
   "source": [
    "sf(x).diff()"
   ]
  },
  {
   "cell_type": "code",
   "execution_count": 198,
   "metadata": {},
   "outputs": [
    {
     "data": {
      "image/png": "[encoded data removed]",
      "text/plain": [
       "<Figure size 432x288 with 1 Axes>"
      ]
     },
     "metadata": {
      "needs_background": "light"
     },
     "output_type": "display_data"
    },
    {
     "data": {
      "text/plain": [
       "<sympy.plotting.plot.Plot at 0x7f7e756dbb38>"
      ]
     },
     "execution_count": 198,
     "metadata": {},
     "output_type": "execute_result"
    }
   ],
   "source": [
    "plot(sf(x).diff(),(x,-10,10))"
   ]
  },
  {
   "cell_type": "code",
   "execution_count": 200,
   "metadata": {},
   "outputs": [
    {
     "data": {
      "image/png": "[encoded data removed]",
      "text/plain": [
       "<Figure size 432x288 with 1 Axes>"
      ]
     },
     "metadata": {
      "needs_background": "light"
     },
     "output_type": "display_data"
    },
    {
     "data": {
      "text/plain": [
       "<sympy.plotting.plot.Plot at 0x7f7e75596748>"
      ]
     },
     "execution_count": 200,
     "metadata": {},
     "output_type": "execute_result"
    }
   ],
   "source": [
    "plot((sf(x).diff()).diff(),(x,-10,10))"
   ]
  },
  {
   "cell_type": "code",
   "execution_count": 192,
   "metadata": {},
   "outputs": [
    {
     "data": {
      "image/png": "[encoded data removed]",
      "text/latex": [
       "$$\\frac{x^{4}}{4} + \\frac{3 x^{2}}{2} - 12 x$$"
      ],
      "text/plain": [
       " 4      2       \n",
       "x    3⋅x        \n",
       "── + ──── - 12⋅x\n",
       "4     2         "
      ]
     },
     "execution_count": 192,
     "metadata": {},
     "output_type": "execute_result"
    }
   ],
   "source": [
    "integrate(sg(x), x)"
   ]
  },
  {
   "cell_type": "code",
   "execution_count": 197,
   "metadata": {},
   "outputs": [
    {
     "data": {
      "image/png": "[encoded data removed]",
      "text/plain": [
       "<Figure size 432x288 with 1 Axes>"
      ]
     },
     "metadata": {
      "needs_background": "light"
     },
     "output_type": "display_data"
    },
    {
     "data": {
      "text/plain": [
       "<sympy.plotting.plot.Plot at 0x7f7e7632f160>"
      ]
     },
     "execution_count": 197,
     "metadata": {},
     "output_type": "execute_result"
    }
   ],
   "source": [
    "plot(integrate(sg(x), x),(x,-10,10))"
   ]
  },
  {
   "cell_type": "code",
   "execution_count": 193,
   "metadata": {},
   "outputs": [
    {
     "data": {
      "image/png": "[encoded data removed]",
      "text/latex": [
       "$$\\frac{x^{5}}{20} + \\frac{x^{3}}{2} - 6 x^{2}$$"
      ],
      "text/plain": [
       " 5    3       \n",
       "x    x       2\n",
       "── + ── - 6⋅x \n",
       "20   2        "
      ]
     },
     "execution_count": 193,
     "metadata": {},
     "output_type": "execute_result"
    }
   ],
   "source": [
    "integrate(integrate(sg(x), x),x)"
   ]
  },
  {
   "cell_type": "code",
   "execution_count": 196,
   "metadata": {},
   "outputs": [
    {
     "data": {
      "image/png": "[encoded data removed]",
      "text/plain": [
       "<Figure size 432x288 with 1 Axes>"
      ]
     },
     "metadata": {
      "needs_background": "light"
     },
     "output_type": "display_data"
    },
    {
     "data": {
      "text/plain": [
       "<sympy.plotting.plot.Plot at 0x7f7e7574ffd0>"
      ]
     },
     "execution_count": 196,
     "metadata": {},
     "output_type": "execute_result"
    }
   ],
   "source": [
    "plot(integrate(integrate(sg(x), x),x),(x,-10,10))"
   ]
  },
  {
   "cell_type": "code",
   "execution_count": 194,
   "metadata": {},
   "outputs": [
    {
     "data": {
      "image/png": "[encoded data removed]",
      "text/latex": [
       "$$y \\left(\\frac{x^{5}}{20} + \\frac{x^{3}}{2} - 6 x^{2}\\right)$$"
      ],
      "text/plain": [
       "  ⎛ 5    3       ⎞\n",
       "  ⎜x    x       2⎟\n",
       "y⋅⎜── + ── - 6⋅x ⎟\n",
       "  ⎝20   2        ⎠"
      ]
     },
     "execution_count": 194,
     "metadata": {},
     "output_type": "execute_result"
    }
   ],
   "source": [
    "integrate(integrate(integrate(sg(x), x),x),y)"
   ]
  },
  {
   "cell_type": "code",
   "execution_count": null,
   "metadata": {},
   "outputs": [],
   "source": []
  }
 ],
 "metadata": {
  "kernelspec": {
   "display_name": "Python 3",
   "language": "python",
   "name": "python3"
  },
  "language_info": {
   "codemirror_mode": {
    "name": "ipython",
    "version": 3
   },
   "file_extension": ".py",
   "mimetype": "text/x-python",
   "name": "python",
   "nbconvert_exporter": "python",
   "pygments_lexer": "ipython3",
   "version": "3.7.0"
  }
 },
 "nbformat": 4,
 "nbformat_minor": 2
}
